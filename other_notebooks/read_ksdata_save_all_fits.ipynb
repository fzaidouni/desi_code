{
 "cells": [
  {
   "cell_type": "code",
   "execution_count": 24,
   "metadata": {},
   "outputs": [],
   "source": [
    "import numpy as np\n",
    "from astropy.io import ascii\n",
    "from astropy.table import Table\n",
    "from astropy.io import fits\n"
   ]
  },
  {
   "cell_type": "code",
   "execution_count": 19,
   "metadata": {},
   "outputs": [],
   "source": [
    "# data = np.loadtxt('data_all.txt')\n",
    "# data = ascii.read('data_all.txt')"
   ]
  },
  {
   "cell_type": "code",
   "execution_count": 20,
   "metadata": {},
   "outputs": [],
   "source": [
    "t = Table.read('data_all.txt', format =  'ascii' )"
   ]
  },
  {
   "cell_type": "code",
   "execution_count": 21,
   "metadata": {},
   "outputs": [
    {
     "data": {
      "text/html": [
       "<i>Table length=3</i>\n",
       "<table id=\"table47242379734152\" class=\"table-striped table-bordered table-condensed\">\n",
       "<thead><tr><th>index</th><th>ra</th><th>dec</th><th>redshift</th><th>Rgal</th><th>rabsmag</th><th>u_r</th><th>imc</th><th>aimc</th><th>cd</th><th>conx1</th><th>prmag</th><th>epetR</th><th>epetRc</th><th>iso_a</th><th>iso_b</th><th>abtrue</th><th>phi_iso_deg</th><th>vdisp</th><th>vdisperr</th><th>snmedian</th><th>rdev</th><th>ab_dev</th><th>rexp</th><th>ab_exp</th><th>mflag</th><th>mr</th><th>g_r</th><th>Ez</th><th>vflag</th><th>plate</th><th>MJD</th><th>fiberID</th><th>MPA_index</th><th>Mstar</th><th>BPTclass</th><th>flag3727</th><th>Z12logOH</th><th>Zerr</th><th>t3</th><th>N12logNH</th><th>NHerr</th><th>logNO</th><th>NOerr</th><th>sSFR</th><th>SFR</th><th>NUV_r</th><th>u_r_NSA</th><th>g_r_NSA</th><th>rabsmag_NSA</th><th>Mstar_NSA</th><th>Ne12logNeH</th><th>NeHerr</th><th>logNeO</th><th>NeOerr</th></tr></thead>\n",
       "<thead><tr><th>float64</th><th>float64</th><th>float64</th><th>float64</th><th>float64</th><th>float64</th><th>float64</th><th>float64</th><th>float64</th><th>float64</th><th>float64</th><th>float64</th><th>float64</th><th>float64</th><th>float64</th><th>float64</th><th>float64</th><th>float64</th><th>float64</th><th>float64</th><th>float64</th><th>float64</th><th>float64</th><th>float64</th><th>float64</th><th>float64</th><th>float64</th><th>float64</th><th>float64</th><th>int64</th><th>int64</th><th>int64</th><th>int64</th><th>int64</th><th>float64</th><th>float64</th><th>float64</th><th>float64</th><th>float64</th><th>float64</th><th>float64</th><th>float64</th><th>float64</th><th>float64</th><th>float64</th><th>float64</th><th>float64</th><th>float64</th><th>float64</th><th>float64</th><th>float64</th><th>float64</th><th>float64</th><th>float64</th><th>float64</th></tr></thead>\n",
       "<tr><td>749.0</td><td>38.049133</td><td>0.224026</td><td>0.054022</td><td>160.22</td><td>-20.101</td><td>2.755</td><td>1.0</td><td>1.0</td><td>-0.047</td><td>0.283</td><td>15.939</td><td>8.5</td><td>8.413</td><td>16.21</td><td>11.82</td><td>0.73</td><td>-80.52</td><td>223.27</td><td>6.29</td><td>33.68</td><td>2.434</td><td>0.807</td><td>1.536</td><td>0.833</td><td>0.0</td><td>16.139</td><td>0.952</td><td>160.223458454</td><td>9</td><td>407</td><td>51820</td><td>513</td><td>70459</td><td>10.55196475982666</td><td>5.0</td><td>nan</td><td>nan</td><td>nan</td><td>nan</td><td>nan</td><td>nan</td><td>nan</td><td>nan</td><td>-11.68909740447998</td><td>-1.0694656372070312</td><td>5.886381035385732</td><td>2.5909545388571527</td><td>0.8840782662723994</td><td>-20.536251068115234</td><td>22597765120.0</td><td>nan</td><td>nan</td><td>nan</td><td>nan</td></tr>\n",
       "<tr><td>750.0</td><td>38.352528</td><td>0.212491</td><td>0.053818</td><td>159.62</td><td>-19.256</td><td>2.565</td><td>1.0</td><td>1.0</td><td>-0.02</td><td>0.365</td><td>16.786</td><td>5.89</td><td>5.848</td><td>8.51</td><td>7.74</td><td>0.91</td><td>-8.39</td><td>67.03</td><td>5.59</td><td>21.47</td><td>2.485</td><td>0.887</td><td>1.788</td><td>0.827</td><td>0.0</td><td>16.837</td><td>0.871</td><td>159.625013119</td><td>9</td><td>407</td><td>51820</td><td>594</td><td>70517</td><td>10.169575691223145</td><td>3.0</td><td>nan</td><td>nan</td><td>nan</td><td>nan</td><td>nan</td><td>nan</td><td>nan</td><td>nan</td><td>-11.156432151794434</td><td>-0.9351850748062134</td><td>inf</td><td>2.2251583317081285</td><td>0.7622379303778964</td><td>-19.708415985107422</td><td>10089863168.0</td><td>nan</td><td>nan</td><td>nan</td><td>nan</td></tr>\n",
       "<tr><td>751.0</td><td>38.363598</td><td>0.210654</td><td>0.05405</td><td>160.31</td><td>-20.959</td><td>2.495</td><td>2.0</td><td>25.88</td><td>-0.297</td><td>0.417</td><td>15.09</td><td>13.78</td><td>13.704</td><td>25.21</td><td>10.3</td><td>0.41</td><td>-75.63</td><td>137.34</td><td>5.46</td><td>26.55</td><td>10.349</td><td>0.407</td><td>6.239</td><td>0.386</td><td>0.0</td><td>15.309</td><td>0.877</td><td>160.305594057</td><td>9</td><td>408</td><td>51821</td><td>351</td><td>70759</td><td>10.911660194396973</td><td>4.0</td><td>nan</td><td>nan</td><td>nan</td><td>nan</td><td>nan</td><td>nan</td><td>nan</td><td>nan</td><td>-10.782448768615723</td><td>0.17625018954277039</td><td>inf</td><td>2.1127458441288782</td><td>0.7120395549037929</td><td>-21.317277908325195</td><td>45481709568.0</td><td>nan</td><td>nan</td><td>nan</td><td>nan</td></tr>\n",
       "</table>"
      ],
      "text/plain": [
       "<Table length=3>\n",
       " index      ra      dec    redshift ... Ne12logNeH  NeHerr  logNeO  NeOerr\n",
       "float64  float64  float64  float64  ...  float64   float64 float64 float64\n",
       "------- --------- -------- -------- ... ---------- ------- ------- -------\n",
       "  749.0 38.049133 0.224026 0.054022 ...        nan     nan     nan     nan\n",
       "  750.0 38.352528 0.212491 0.053818 ...        nan     nan     nan     nan\n",
       "  751.0 38.363598 0.210654  0.05405 ...        nan     nan     nan     nan"
      ]
     },
     "execution_count": 21,
     "metadata": {},
     "output_type": "execute_result"
    }
   ],
   "source": [
    "t[:3]"
   ]
  },
  {
   "cell_type": "code",
   "execution_count": 22,
   "metadata": {},
   "outputs": [],
   "source": [
    "z = np.array(t['redshift'])\n",
    "ra = np.array(t['ra'])\n",
    "dec = np.array(t['dec'])\n",
    "Rgal = np.array(t['Rgal'])\n",
    "rabsmag = np.array(t['rabsmag'])\n",
    "index = np.array(t['index'])"
   ]
  },
  {
   "cell_type": "code",
   "execution_count": 25,
   "metadata": {},
   "outputs": [],
   "source": [
    "c0 = fits.Column(name='index', array=index, format='E')\n",
    "\n",
    "c1 = fits.Column(name='z', array=z, format='E')\n",
    "\n",
    "c2 = fits.Column(name='ra', array=ra, format='E')\n",
    "\n",
    "c3 = fits.Column(name='dec', array=dec, format='E')\n",
    "\n",
    "c4 = fits.Column(name='Rgal', array=Rgal, format='E')\n",
    "\n",
    "c5 = fits.Column(name='rabsmag', array=rabsmag, format='E')\n",
    "\n",
    "t = fits.BinTableHDU.from_columns([c0,c1, c2, c3, c4, c5])\n",
    "\n",
    "t.writeto('ALL.fits')"
   ]
  },
  {
   "cell_type": "code",
   "execution_count": 26,
   "metadata": {},
   "outputs": [],
   "source": [
    "hdu2 = fits.open('ALL.fits')"
   ]
  },
  {
   "cell_type": "code",
   "execution_count": 27,
   "metadata": {},
   "outputs": [
    {
     "name": "stdout",
     "output_type": "stream",
     "text": [
      "Filename: ALL.fits\n",
      "No.    Name      Ver    Type      Cards   Dimensions   Format\n",
      "  0  PRIMARY       1 PrimaryHDU       4   ()      \n",
      "  1                1 BinTableHDU     20   707817R x 6C   [E, E, E, E, E, E]   \n"
     ]
    }
   ],
   "source": [
    "hdu2.info()\n",
    "data = hdu2[1].data\n"
   ]
  },
  {
   "cell_type": "code",
   "execution_count": 28,
   "metadata": {},
   "outputs": [
    {
     "data": {
      "text/plain": [
       "FITS_rec([(7.490000e+02, 0.054022,  38.049133, 0.224026, 160.22, -20.101),\n",
       "          (7.500000e+02, 0.053818,  38.352528, 0.212491, 159.62, -19.256),\n",
       "          (7.510000e+02, 0.05405 ,  38.363598, 0.210654, 160.31, -20.959),\n",
       "          ...,\n",
       "          (2.506679e+06, 0.165164, 162.44974 , 9.591626, 478.57, -20.904),\n",
       "          (2.506684e+06, 0.148964, 162.51091 , 9.478485, 433.14, -20.608),\n",
       "          (2.506688e+06, 0.086864, 162.52312 , 9.520403, 255.9 , -19.441)],\n",
       "         dtype=(numpy.record, [('index', '>f4'), ('z', '>f4'), ('ra', '>f4'), ('dec', '>f4'), ('Rgal', '>f4'), ('rabsmag', '>f4')]))"
      ]
     },
     "execution_count": 28,
     "metadata": {},
     "output_type": "execute_result"
    }
   ],
   "source": [
    "data"
   ]
  },
  {
   "cell_type": "code",
   "execution_count": 29,
   "metadata": {},
   "outputs": [
    {
     "data": {
      "text/plain": [
       "707817"
      ]
     },
     "execution_count": 29,
     "metadata": {},
     "output_type": "execute_result"
    }
   ],
   "source": [
    "len(data['z'])"
   ]
  },
  {
   "cell_type": "code",
   "execution_count": null,
   "metadata": {},
   "outputs": [],
   "source": []
  }
 ],
 "metadata": {
  "kernelspec": {
   "display_name": "TestKernel",
   "language": "python",
   "name": "testkernel"
  },
  "language_info": {
   "codemirror_mode": {
    "name": "ipython",
    "version": 3
   },
   "file_extension": ".py",
   "mimetype": "text/x-python",
   "name": "python",
   "nbconvert_exporter": "python",
   "pygments_lexer": "ipython3",
   "version": "3.6.10"
  },
  "toc": {
   "base_numbering": 1,
   "nav_menu": {},
   "number_sections": true,
   "sideBar": true,
   "skip_h1_title": false,
   "title_cell": "Table of Contents",
   "title_sidebar": "Contents",
   "toc_cell": false,
   "toc_position": {},
   "toc_section_display": true,
   "toc_window_display": false
  }
 },
 "nbformat": 4,
 "nbformat_minor": 2
}
