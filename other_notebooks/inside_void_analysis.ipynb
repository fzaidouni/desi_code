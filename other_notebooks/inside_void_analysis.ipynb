{
 "cells": [
  {
   "cell_type": "code",
   "execution_count": 8,
   "metadata": {},
   "outputs": [],
   "source": [
    "# import sklearn.neighbors \n",
    "from sklearn import neighbors\n",
    "from astropy.table import Table\n",
    "from astropy.io import fits\n",
    "import numpy as np\n",
    "import pickle"
   ]
  },
  {
   "cell_type": "code",
   "execution_count": 7,
   "metadata": {},
   "outputs": [
    {
     "name": "stdout",
     "output_type": "stream",
     "text": [
      "Collecting package metadata (repodata.json): done\n",
      "Solving environment: done\n",
      "\n",
      "\n",
      "==> WARNING: A newer version of conda exists. <==\n",
      "  current version: 4.7.12\n",
      "  latest version: 4.9.2\n",
      "\n",
      "Please update conda by running\n",
      "\n",
      "    $ conda update -n base conda\n",
      "\n",
      "\n",
      "\n",
      "## Package Plan ##\n",
      "\n",
      "  environment location: /home/fzaidoun/anaconda3/envs/him\n",
      "\n",
      "  added / updated specs:\n",
      "    - scikit-learn\n",
      "\n",
      "\n",
      "The following packages will be downloaded:\n",
      "\n",
      "    package                    |            build\n",
      "    ---------------------------|-----------------\n",
      "    ca-certificates-2020.12.5  |       ha878542_0         137 KB  conda-forge\n",
      "    certifi-2020.12.5          |   py36h5fab9bb_1         143 KB  conda-forge\n",
      "    joblib-1.0.1               |     pyhd8ed1ab_0         206 KB  conda-forge\n",
      "    libblas-3.8.0              |           21_mkl          11 KB  conda-forge\n",
      "    libcblas-3.8.0             |           21_mkl          11 KB  conda-forge\n",
      "    openssl-1.1.1h             |       h516909a_0         2.1 MB  conda-forge\n",
      "    scikit-learn-0.23.2        |   py36hb6e6923_3         6.8 MB  conda-forge\n",
      "    threadpoolctl-2.1.0        |     pyh5ca1d4c_0          15 KB  conda-forge\n",
      "    ------------------------------------------------------------\n",
      "                                           Total:         9.5 MB\n",
      "\n",
      "The following NEW packages will be INSTALLED:\n",
      "\n",
      "  joblib             conda-forge/noarch::joblib-1.0.1-pyhd8ed1ab_0\n",
      "  libblas            conda-forge/linux-64::libblas-3.8.0-21_mkl\n",
      "  libcblas           conda-forge/linux-64::libcblas-3.8.0-21_mkl\n",
      "  scikit-learn       conda-forge/linux-64::scikit-learn-0.23.2-py36hb6e6923_3\n",
      "  threadpoolctl      conda-forge/noarch::threadpoolctl-2.1.0-pyh5ca1d4c_0\n",
      "\n",
      "The following packages will be UPDATED:\n",
      "\n",
      "  ca-certificates                      2020.6.20-hecda079_0 --> 2020.12.5-ha878542_0\n",
      "  certifi                          2020.6.20-py36h9f0ad1d_0 --> 2020.12.5-py36h5fab9bb_1\n",
      "  openssl                                 1.1.1g-h516909a_1 --> 1.1.1h-h516909a_0\n",
      "\n",
      "\n",
      "\n",
      "Downloading and Extracting Packages\n",
      "certifi-2020.12.5    | 143 KB    | ##################################### | 100% \n",
      "libblas-3.8.0        | 11 KB     | ##################################### | 100% \n",
      "ca-certificates-2020 | 137 KB    | ##################################### | 100% \n",
      "libcblas-3.8.0       | 11 KB     | ##################################### | 100% \n",
      "joblib-1.0.1         | 206 KB    | ##################################### | 100% \n",
      "scikit-learn-0.23.2  | 6.8 MB    | ##################################### | 100% \n",
      "openssl-1.1.1h       | 2.1 MB    | ##################################### | 100% \n",
      "threadpoolctl-2.1.0  | 15 KB     | ##################################### | 100% \n",
      "Preparing transaction: done\n",
      "Verifying transaction: done\n",
      "Executing transaction: done\n"
     ]
    }
   ],
   "source": [
    "!conda install -c conda-forge scikit-learn -y"
   ]
  },
  {
   "cell_type": "code",
   "execution_count": 9,
   "metadata": {},
   "outputs": [],
   "source": [
    "# galzone = Table.read('DR7_galzones.dat', format =  'ascii' )\n",
    "# depth = np.array(galzone['depth'])"
   ]
  },
  {
   "cell_type": "code",
   "execution_count": 20,
   "metadata": {},
   "outputs": [],
   "source": [
    "maximals=np.loadtxt('ALL_comoving_maximal.txt')"
   ]
  },
  {
   "cell_type": "code",
   "execution_count": 27,
   "metadata": {},
   "outputs": [],
   "source": [
    "# dec_ = maximals[:,7]\n",
    "# ra_ = maximals[:,6]\n",
    "# r_= maximals[:,5]\n",
    "# radius_=maximals[:,3]"
   ]
  },
  {
   "cell_type": "code",
   "execution_count": 30,
   "metadata": {},
   "outputs": [],
   "source": [
    "# galaxy_depth = []\n",
    "# for i in range(np.max(depth)):\n",
    "#     galaxy_depth.append(np.argwhere(depth==i))\n",
    "# galaxy_depth=np.array(galaxy_depth)"
   ]
  },
  {
   "cell_type": "code",
   "execution_count": 30,
   "metadata": {},
   "outputs": [],
   "source": [
    "# # t = Table.read('DR7_zobovoids.dat', format =  'ascii' )\n",
    "x_voidv2 = np.array(maximals[:,0])\n",
    "y_voidv2  = np.array(maximals[:,1])\n",
    "z_voidv2  = np.array(maximals[:,2])\n",
    "radius_voidv2  = np.array(maximals[:,3])\n",
    "\n",
    "num_voidv2  = x_voidv2.shape[0]\n",
    "voidv2_xyz = np.concatenate((x_voidv2.reshape(num_voidv2 ,1),\n",
    "                                 y_voidv2.reshape(num_voidv2 ,1),\n",
    "                                 z_voidv2.reshape(num_voidv2 ,1)), axis=1)"
   ]
  },
  {
   "cell_type": "code",
   "execution_count": null,
   "metadata": {},
   "outputs": [],
   "source": []
  },
  {
   "cell_type": "code",
   "execution_count": 31,
   "metadata": {},
   "outputs": [],
   "source": [
    "cols = ['ra', 'dec','redshift']\n",
    "galaxy_table = Table.read('data_flags_updated_Nov1.dat', format =  'ascii',include_names=cols )"
   ]
  },
  {
   "cell_type": "code",
   "execution_count": 32,
   "metadata": {},
   "outputs": [],
   "source": [
    "galaxy_table = galaxy_table[galaxy_table['redshift']< 0.1026]"
   ]
  },
  {
   "cell_type": "code",
   "execution_count": 33,
   "metadata": {},
   "outputs": [],
   "source": [
    "h=1\n",
    "DtoR = np.pi/180.\n",
    "RtoD = 180./np.pi\n",
    "c = 3e5\n",
    "\n",
    "r_gal = c*galaxy_table['redshift'].data/(100*h)\n",
    "ra = galaxy_table['ra'].data\n",
    "dec = galaxy_table['dec'].data"
   ]
  },
  {
   "cell_type": "code",
   "execution_count": 34,
   "metadata": {},
   "outputs": [],
   "source": [
    "ra_radian = ra*DtoR\n",
    "\n",
    "dec_radian = dec*DtoR\n",
    "\n",
    "x_gal = r_gal*np.cos(ra_radian)*np.cos(dec_radian)\n",
    "\n",
    "y_gal = r_gal*np.sin(ra_radian)*np.cos(dec_radian)\n",
    "\n",
    "z_gal = r_gal*np.sin(dec_radian)\n",
    "\n",
    "num_gal = x_gal.shape[0]\n",
    "    \n",
    "gals_xyz = np.concatenate((x_gal.reshape(num_gal,1),\n",
    "                                 y_gal.reshape(num_gal,1),\n",
    "                                 z_gal.reshape(num_gal,1)), axis=1)"
   ]
  },
  {
   "cell_type": "code",
   "execution_count": 35,
   "metadata": {},
   "outputs": [],
   "source": [
    "for i in np.linspace(0.1,2,100):\n",
    "    tree = neighbors.KDTree(gals_xyz, metric = 'euclidean')\n",
    "    ind =  tree.query_radius(voidv2_xyz, r =i*radius_voidv2)\n",
    "    with open('galaxy_in_voidvf_indices'+str(i), 'wb') as ind_file:\n",
    "        pickle.dump(ind, ind_file)\n"
   ]
  },
  {
   "cell_type": "code",
   "execution_count": 43,
   "metadata": {},
   "outputs": [
    {
     "data": {
      "text/plain": [
       "(872,)"
      ]
     },
     "execution_count": 43,
     "metadata": {},
     "output_type": "execute_result"
    }
   ],
   "source": [
    "ind.shape"
   ]
  },
  {
   "cell_type": "code",
   "execution_count": 18,
   "metadata": {},
   "outputs": [],
   "source": [
    "# trial = [[0,0,0],[1,1,1]]\n",
    "# trial_test = [[0,0,2],[0,5,0],[5,1,0],[5,0,0]] \n",
    "# trial = np.array(trial)\n",
    "# trial_test = np.array(trial_test)\n",
    "\n",
    "# tree = neighbors.KDTree(trial, metric = 'euclidean')\n",
    "# ind =  tree.query_radius(trial_test, r =5)\n",
    "# # print(\"distance to closest neighbour is: \", dist) # distance between entry of trial_test and closest neighbour in trial\n",
    "# print(\"index of closest neighbour\", ind) # indices from trial that are within radius r of entry in trial_test"
   ]
  },
  {
   "cell_type": "code",
   "execution_count": 44,
   "metadata": {},
   "outputs": [
    {
     "ename": "AttributeError",
     "evalue": "module 'pickle' has no attribute 'read'",
     "output_type": "error",
     "traceback": [
      "\u001b[0;31m---------------------------------------------------------------------------\u001b[0m",
      "\u001b[0;31mAttributeError\u001b[0m                            Traceback (most recent call last)",
      "\u001b[0;32m<ipython-input-44-0d5db799a91b>\u001b[0m in \u001b[0;36m<module>\u001b[0;34m\u001b[0m\n\u001b[1;32m      1\u001b[0m \u001b[0;32mimport\u001b[0m \u001b[0mpickle\u001b[0m\u001b[0;34m\u001b[0m\u001b[0;34m\u001b[0m\u001b[0m\n\u001b[1;32m      2\u001b[0m \u001b[0;32mwith\u001b[0m \u001b[0mopen\u001b[0m\u001b[0;34m(\u001b[0m\u001b[0;34m'galaxy_in_maximal_indices'\u001b[0m\u001b[0;34m,\u001b[0m \u001b[0;34m'wb'\u001b[0m\u001b[0;34m)\u001b[0m \u001b[0;32mas\u001b[0m \u001b[0mind_file\u001b[0m\u001b[0;34m:\u001b[0m\u001b[0;34m\u001b[0m\u001b[0;34m\u001b[0m\u001b[0m\n\u001b[0;32m----> 3\u001b[0;31m     \u001b[0mpickle\u001b[0m\u001b[0;34m.\u001b[0m\u001b[0mread\u001b[0m\u001b[0;34m(\u001b[0m\u001b[0mind\u001b[0m\u001b[0;34m,\u001b[0m \u001b[0mind_file\u001b[0m\u001b[0;34m)\u001b[0m\u001b[0;34m\u001b[0m\u001b[0;34m\u001b[0m\u001b[0m\n\u001b[0m",
      "\u001b[0;31mAttributeError\u001b[0m: module 'pickle' has no attribute 'read'"
     ]
    }
   ],
   "source": [
    "import pickle\n",
    "with open('galaxy_in_maximal_indices', 'wb') as ind_file:\n",
    "    pickle.read(ind, ind_file)"
   ]
  },
  {
   "cell_type": "code",
   "execution_count": null,
   "metadata": {},
   "outputs": [],
   "source": []
  }
 ],
 "metadata": {
  "kernelspec": {
   "display_name": "TestKernel",
   "language": "python",
   "name": "testkernel"
  },
  "language_info": {
   "codemirror_mode": {
    "name": "ipython",
    "version": 3
   },
   "file_extension": ".py",
   "mimetype": "text/x-python",
   "name": "python",
   "nbconvert_exporter": "python",
   "pygments_lexer": "ipython3",
   "version": "3.6.10"
  },
  "toc": {
   "base_numbering": 1,
   "nav_menu": {},
   "number_sections": true,
   "sideBar": true,
   "skip_h1_title": false,
   "title_cell": "Table of Contents",
   "title_sidebar": "Contents",
   "toc_cell": false,
   "toc_position": {},
   "toc_section_display": true,
   "toc_window_display": false
  }
 },
 "nbformat": 4,
 "nbformat_minor": 2
}
